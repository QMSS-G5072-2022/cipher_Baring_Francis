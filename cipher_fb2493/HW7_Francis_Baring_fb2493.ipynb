{
 "cells": [
  {
   "cell_type": "markdown",
   "id": "7b492f96",
   "metadata": {},
   "source": [
    "# Homework 7"
   ]
  },
  {
   "cell_type": "markdown",
   "id": "3b788337",
   "metadata": {},
   "source": [
    "## Link to TestPyPi package"
   ]
  },
  {
   "cell_type": "markdown",
   "id": "14ae45e7",
   "metadata": {},
   "source": [
    "### https://test.pypi.org/project/cipher-fb2493/0.1.0/"
   ]
  },
  {
   "cell_type": "markdown",
   "id": "5478a78d",
   "metadata": {},
   "source": [
    "## Repo of package"
   ]
  },
  {
   "cell_type": "markdown",
   "id": "b3e3228c",
   "metadata": {},
   "source": [
    "### https://github.com/QMSS-G5072-2022/cipher_Baring_Francis.git"
   ]
  },
  {
   "cell_type": "markdown",
   "id": "27c10599",
   "metadata": {},
   "source": [
    "## Install package from TestPyPi"
   ]
  },
  {
   "cell_type": "code",
   "execution_count": 18,
   "id": "e8fb60cd",
   "metadata": {},
   "outputs": [
    {
     "name": "stdout",
     "output_type": "stream",
     "text": [
      "Looking in indexes: https://test.pypi.org/pypi/, https://pypi.org/simple/\n",
      "Collecting cipher_fb2493\n",
      "  Downloading https://test-files.pythonhosted.org/packages/92/c7/c803eaf6e2df030f7d5451ee35746a98e32381ec5c3f30efb8858345d0e8/cipher_fb2493-0.1.2-py3-none-any.whl (3.1 kB)\n",
      "Collecting sphinx<6.0.0,>=5.3.0\n",
      "  Using cached sphinx-5.3.0-py3-none-any.whl (3.2 MB)\n",
      "Collecting pandas<2.0.0,>=1.5.1\n",
      "  Using cached pandas-1.5.1-cp39-cp39-macosx_10_9_x86_64.whl (12.1 MB)\n",
      "Collecting numpy<2.0.0,>=1.23.4\n",
      "  Using cached numpy-1.23.4-cp39-cp39-macosx_10_9_x86_64.whl (18.1 MB)\n",
      "Collecting pytest<8.0.0,>=7.2.0\n",
      "  Using cached pytest-7.2.0-py3-none-any.whl (316 kB)\n",
      "Requirement already satisfied: python-dateutil>=2.8.1 in /Users/frankbaring/opt/anaconda3/lib/python3.9/site-packages (from pandas<2.0.0,>=1.5.1->cipher_fb2493) (2.8.2)\n",
      "Requirement already satisfied: pytz>=2020.1 in /Users/frankbaring/opt/anaconda3/lib/python3.9/site-packages (from pandas<2.0.0,>=1.5.1->cipher_fb2493) (2021.3)\n",
      "Requirement already satisfied: tomli>=1.0.0 in /Users/frankbaring/opt/anaconda3/lib/python3.9/site-packages (from pytest<8.0.0,>=7.2.0->cipher_fb2493) (1.2.2)\n",
      "Requirement already satisfied: attrs>=19.2.0 in /Users/frankbaring/opt/anaconda3/lib/python3.9/site-packages (from pytest<8.0.0,>=7.2.0->cipher_fb2493) (21.4.0)\n",
      "Requirement already satisfied: iniconfig in /Users/frankbaring/opt/anaconda3/lib/python3.9/site-packages (from pytest<8.0.0,>=7.2.0->cipher_fb2493) (1.1.1)\n",
      "Requirement already satisfied: pluggy<2.0,>=0.12 in /Users/frankbaring/opt/anaconda3/lib/python3.9/site-packages (from pytest<8.0.0,>=7.2.0->cipher_fb2493) (1.0.0)\n",
      "Collecting exceptiongroup>=1.0.0rc8\n",
      "  Using cached exceptiongroup-1.0.0-py3-none-any.whl (12 kB)\n",
      "Requirement already satisfied: packaging in /Users/frankbaring/opt/anaconda3/lib/python3.9/site-packages (from pytest<8.0.0,>=7.2.0->cipher_fb2493) (21.3)\n",
      "Requirement already satisfied: six>=1.5 in /Users/frankbaring/opt/anaconda3/lib/python3.9/site-packages (from python-dateutil>=2.8.1->pandas<2.0.0,>=1.5.1->cipher_fb2493) (1.16.0)\n",
      "Requirement already satisfied: docutils<0.20,>=0.14 in /Users/frankbaring/opt/anaconda3/lib/python3.9/site-packages (from sphinx<6.0.0,>=5.3.0->cipher_fb2493) (0.17.1)\n",
      "Requirement already satisfied: snowballstemmer>=2.0 in /Users/frankbaring/opt/anaconda3/lib/python3.9/site-packages (from sphinx<6.0.0,>=5.3.0->cipher_fb2493) (2.2.0)\n",
      "Requirement already satisfied: importlib-metadata>=4.8 in /Users/frankbaring/opt/anaconda3/lib/python3.9/site-packages (from sphinx<6.0.0,>=5.3.0->cipher_fb2493) (4.11.3)\n",
      "Requirement already satisfied: sphinxcontrib-serializinghtml>=1.1.5 in /Users/frankbaring/opt/anaconda3/lib/python3.9/site-packages (from sphinx<6.0.0,>=5.3.0->cipher_fb2493) (1.1.5)\n",
      "Collecting Jinja2>=3.0\n",
      "  Using cached Jinja2-3.1.2-py3-none-any.whl (133 kB)\n",
      "Requirement already satisfied: requests>=2.5.0 in /Users/frankbaring/opt/anaconda3/lib/python3.9/site-packages (from sphinx<6.0.0,>=5.3.0->cipher_fb2493) (2.27.1)\n",
      "Requirement already satisfied: alabaster<0.8,>=0.7 in /Users/frankbaring/opt/anaconda3/lib/python3.9/site-packages (from sphinx<6.0.0,>=5.3.0->cipher_fb2493) (0.7.12)\n",
      "Requirement already satisfied: sphinxcontrib-devhelp in /Users/frankbaring/opt/anaconda3/lib/python3.9/site-packages (from sphinx<6.0.0,>=5.3.0->cipher_fb2493) (1.0.2)\n",
      "Requirement already satisfied: imagesize>=1.3 in /Users/frankbaring/opt/anaconda3/lib/python3.9/site-packages (from sphinx<6.0.0,>=5.3.0->cipher_fb2493) (1.3.0)\n",
      "Requirement already satisfied: babel>=2.9 in /Users/frankbaring/opt/anaconda3/lib/python3.9/site-packages (from sphinx<6.0.0,>=5.3.0->cipher_fb2493) (2.9.1)\n",
      "Requirement already satisfied: sphinxcontrib-applehelp in /Users/frankbaring/opt/anaconda3/lib/python3.9/site-packages (from sphinx<6.0.0,>=5.3.0->cipher_fb2493) (1.0.2)\n",
      "Collecting Pygments>=2.12\n",
      "  Using cached Pygments-2.13.0-py3-none-any.whl (1.1 MB)\n",
      "Requirement already satisfied: sphinxcontrib-jsmath in /Users/frankbaring/opt/anaconda3/lib/python3.9/site-packages (from sphinx<6.0.0,>=5.3.0->cipher_fb2493) (1.0.1)\n",
      "Requirement already satisfied: sphinxcontrib-htmlhelp>=2.0.0 in /Users/frankbaring/opt/anaconda3/lib/python3.9/site-packages (from sphinx<6.0.0,>=5.3.0->cipher_fb2493) (2.0.0)\n",
      "Requirement already satisfied: sphinxcontrib-qthelp in /Users/frankbaring/opt/anaconda3/lib/python3.9/site-packages (from sphinx<6.0.0,>=5.3.0->cipher_fb2493) (1.0.3)\n",
      "Requirement already satisfied: zipp>=0.5 in /Users/frankbaring/opt/anaconda3/lib/python3.9/site-packages (from importlib-metadata>=4.8->sphinx<6.0.0,>=5.3.0->cipher_fb2493) (3.7.0)\n",
      "Requirement already satisfied: MarkupSafe>=2.0 in /Users/frankbaring/opt/anaconda3/lib/python3.9/site-packages (from Jinja2>=3.0->sphinx<6.0.0,>=5.3.0->cipher_fb2493) (2.0.1)\n",
      "Requirement already satisfied: pyparsing!=3.0.5,>=2.0.2 in /Users/frankbaring/opt/anaconda3/lib/python3.9/site-packages (from packaging->pytest<8.0.0,>=7.2.0->cipher_fb2493) (3.0.4)\n",
      "Requirement already satisfied: urllib3<1.27,>=1.21.1 in /Users/frankbaring/opt/anaconda3/lib/python3.9/site-packages (from requests>=2.5.0->sphinx<6.0.0,>=5.3.0->cipher_fb2493) (1.26.9)\n",
      "Requirement already satisfied: idna<4,>=2.5 in /Users/frankbaring/opt/anaconda3/lib/python3.9/site-packages (from requests>=2.5.0->sphinx<6.0.0,>=5.3.0->cipher_fb2493) (3.3)\n",
      "Requirement already satisfied: certifi>=2017.4.17 in /Users/frankbaring/opt/anaconda3/lib/python3.9/site-packages (from requests>=2.5.0->sphinx<6.0.0,>=5.3.0->cipher_fb2493) (2021.10.8)\n",
      "Requirement already satisfied: charset-normalizer~=2.0.0 in /Users/frankbaring/opt/anaconda3/lib/python3.9/site-packages (from requests>=2.5.0->sphinx<6.0.0,>=5.3.0->cipher_fb2493) (2.0.4)\n",
      "Installing collected packages: Pygments, numpy, Jinja2, exceptiongroup, sphinx, pytest, pandas, cipher-fb2493\n",
      "  Attempting uninstall: Pygments\n",
      "    Found existing installation: Pygments 2.11.2\n",
      "    Uninstalling Pygments-2.11.2:\n",
      "      Successfully uninstalled Pygments-2.11.2\n",
      "  Attempting uninstall: numpy\n",
      "    Found existing installation: numpy 1.21.5\n",
      "    Uninstalling numpy-1.21.5:\n",
      "      Successfully uninstalled numpy-1.21.5\n",
      "  Attempting uninstall: Jinja2\n",
      "    Found existing installation: Jinja2 2.11.3\n",
      "    Uninstalling Jinja2-2.11.3:\n",
      "      Successfully uninstalled Jinja2-2.11.3\n",
      "  Attempting uninstall: sphinx\n",
      "    Found existing installation: Sphinx 4.4.0\n",
      "    Uninstalling Sphinx-4.4.0:\n",
      "      Successfully uninstalled Sphinx-4.4.0\n",
      "  Attempting uninstall: pytest\n",
      "    Found existing installation: pytest 7.1.1\n",
      "    Uninstalling pytest-7.1.1:\n",
      "      Successfully uninstalled pytest-7.1.1\n",
      "  Attempting uninstall: pandas\n",
      "    Found existing installation: pandas 1.4.2\n",
      "    Uninstalling pandas-1.4.2:\n",
      "      Successfully uninstalled pandas-1.4.2\n",
      "\u001b[31mERROR: pip's dependency resolver does not currently take into account all the packages that are installed. This behaviour is the source of the following dependency conflicts.\n",
      "spyder 5.1.5 requires pyqt5<5.13, which is not installed.\n",
      "spyder 5.1.5 requires pyqtwebengine<5.13, which is not installed.\n",
      "daal4py 2021.5.0 requires daal==2021.4.0, which is not installed.\n",
      "anaconda-project 0.10.2 requires ruamel-yaml, which is not installed.\n",
      "scipy 1.7.3 requires numpy<1.23.0,>=1.16.5, but you have numpy 1.23.4 which is incompatible.\n",
      "numba 0.55.1 requires numpy<1.22,>=1.18, but you have numpy 1.23.4 which is incompatible.\u001b[0m\n",
      "Successfully installed Jinja2-3.1.2 Pygments-2.13.0 cipher-fb2493-0.1.2 exceptiongroup-1.0.0 numpy-1.23.4 pandas-1.5.1 pytest-7.2.0 sphinx-5.3.0\n"
     ]
    }
   ],
   "source": [
    "!pip3 install -i https://test.pypi.org/pypi/ --extra-index-url https://pypi.org/simple/ cipher_fb2493\n",
    "\n"
   ]
  },
  {
   "cell_type": "markdown",
   "id": "ce584f7e",
   "metadata": {},
   "source": [
    "## Run example"
   ]
  },
  {
   "cell_type": "code",
   "execution_count": 21,
   "id": "625d2fb8",
   "metadata": {},
   "outputs": [
    {
     "data": {
      "text/plain": [
       "'khoor zruog'"
      ]
     },
     "execution_count": 21,
     "metadata": {},
     "output_type": "execute_result"
    }
   ],
   "source": [
    "from cipher_fb2493 import cipher_fb2493\n",
    "\n",
    "cipher_fb2493.cipher(\"hello world\",3,True)\n"
   ]
  },
  {
   "cell_type": "markdown",
   "id": "084a63af",
   "metadata": {},
   "source": [
    "## Show help() outputs"
   ]
  },
  {
   "cell_type": "code",
   "execution_count": 22,
   "id": "4614d424",
   "metadata": {},
   "outputs": [
    {
     "name": "stdout",
     "output_type": "stream",
     "text": [
      "Help on module cipher_fb2493.cipher_fb2493 in cipher_fb2493:\n",
      "\n",
      "NAME\n",
      "    cipher_fb2493.cipher_fb2493\n",
      "\n",
      "FUNCTIONS\n",
      "    cipher(text, shift, encrypt=True)\n",
      "        Encrypts a string of text (1st argument) by shifting each letter\n",
      "        by the integer \"shift\" (2nd argument) towards the end of the alphabet.\n",
      "        If \"encrypt\" (3rd argument) is set to False, the function will decrypt \n",
      "        the string of text by shifting the letters towards the start of the\n",
      "        alphabet. The alphabet string used is duplicated for capitals as follows:\n",
      "        'abcdefghijklmnopqrstuvwxyzABCDEFGHIJKLMNOPQRSTUVWXYZ'. \n",
      "        \n",
      "        Parameters\n",
      "        ----------\n",
      "        text : string\n",
      "        shift : integer\n",
      "        encrypt : boolean\n",
      "        \n",
      "        Returns\n",
      "        -------\n",
      "        Encrypted or decrypted string.\n",
      "        \n",
      "        Examples\n",
      "        --------\n",
      "        >>> import cipher_fb2493\n",
      "        >>> cipher_fb2493.cipher(\"hello world\",3,True)\n",
      "        'khoor zruog'\n",
      "\n",
      "FILE\n",
      "    /Users/frankbaring/opt/anaconda3/lib/python3.9/site-packages/cipher_fb2493/cipher_fb2493.py\n",
      "\n",
      "\n"
     ]
    }
   ],
   "source": [
    "help(cipher_fb2493)"
   ]
  },
  {
   "cell_type": "code",
   "execution_count": 23,
   "id": "2695625b",
   "metadata": {},
   "outputs": [
    {
     "name": "stdout",
     "output_type": "stream",
     "text": [
      "Help on function cipher in module cipher_fb2493.cipher_fb2493:\n",
      "\n",
      "cipher(text, shift, encrypt=True)\n",
      "    Encrypts a string of text (1st argument) by shifting each letter\n",
      "    by the integer \"shift\" (2nd argument) towards the end of the alphabet.\n",
      "    If \"encrypt\" (3rd argument) is set to False, the function will decrypt \n",
      "    the string of text by shifting the letters towards the start of the\n",
      "    alphabet. The alphabet string used is duplicated for capitals as follows:\n",
      "    'abcdefghijklmnopqrstuvwxyzABCDEFGHIJKLMNOPQRSTUVWXYZ'. \n",
      "    \n",
      "    Parameters\n",
      "    ----------\n",
      "    text : string\n",
      "    shift : integer\n",
      "    encrypt : boolean\n",
      "    \n",
      "    Returns\n",
      "    -------\n",
      "    Encrypted or decrypted string.\n",
      "    \n",
      "    Examples\n",
      "    --------\n",
      "    >>> import cipher_fb2493\n",
      "    >>> cipher_fb2493.cipher(\"hello world\",3,True)\n",
      "    'khoor zruog'\n",
      "\n"
     ]
    }
   ],
   "source": [
    "help(cipher_fb2493.cipher)"
   ]
  }
 ],
 "metadata": {
  "kernelspec": {
   "display_name": "Python 3 (ipykernel)",
   "language": "python",
   "name": "python3"
  },
  "language_info": {
   "codemirror_mode": {
    "name": "ipython",
    "version": 3
   },
   "file_extension": ".py",
   "mimetype": "text/x-python",
   "name": "python",
   "nbconvert_exporter": "python",
   "pygments_lexer": "ipython3",
   "version": "3.9.12"
  }
 },
 "nbformat": 4,
 "nbformat_minor": 5
}
