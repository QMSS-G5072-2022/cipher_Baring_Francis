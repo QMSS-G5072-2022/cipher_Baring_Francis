{
 "cells": [
  {
   "cell_type": "markdown",
   "id": "0dc2f737",
   "metadata": {},
   "source": [
    "## Link to TestPyPi package"
   ]
  },
  {
   "cell_type": "markdown",
   "id": "a2617364",
   "metadata": {},
   "source": [
    "### https://test.pypi.org/project/cipher-fb2493/0.1.0/"
   ]
  },
  {
   "cell_type": "markdown",
   "id": "76164194",
   "metadata": {},
   "source": [
    "## Repo of package"
   ]
  },
  {
   "cell_type": "markdown",
   "id": "f3af3579",
   "metadata": {},
   "source": [
    "### https://github.com/QMSS-G5072-2022/cipher_Baring_Francis.git"
   ]
  },
  {
   "cell_type": "markdown",
   "id": "e488c96c",
   "metadata": {},
   "source": [
    "## Install package from TestPyPi"
   ]
  },
  {
   "cell_type": "code",
   "execution_count": 17,
   "id": "c61f31fb",
   "metadata": {},
   "outputs": [
    {
     "name": "stdout",
     "output_type": "stream",
     "text": [
      "\u001b[31mERROR: Could not find a version that satisfies the requirement python3.10 (from versions: none)\u001b[0m\n",
      "\u001b[31mERROR: No matching distribution found for python3.10\u001b[0m\n"
     ]
    }
   ],
   "source": [
    "\n"
   ]
  },
  {
   "cell_type": "code",
   "execution_count": 15,
   "id": "5aef5fde",
   "metadata": {},
   "outputs": [
    {
     "name": "stdout",
     "output_type": "stream",
     "text": [
      "zsh:1: unknown file attribute: h\r\n"
     ]
    }
   ],
   "source": [
    "\n"
   ]
  }
 ],
 "metadata": {
  "kernelspec": {
   "display_name": "Python 3 (ipykernel)",
   "language": "python",
   "name": "python3"
  },
  "language_info": {
   "codemirror_mode": {
    "name": "ipython",
    "version": 3
   },
   "file_extension": ".py",
   "mimetype": "text/x-python",
   "name": "python",
   "nbconvert_exporter": "python",
   "pygments_lexer": "ipython3",
   "version": "3.9.12"
  }
 },
 "nbformat": 4,
 "nbformat_minor": 5
}
